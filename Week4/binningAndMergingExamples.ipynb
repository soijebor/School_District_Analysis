{
 "cells": [
  {
   "cell_type": "code",
   "execution_count": 1,
   "metadata": {},
   "outputs": [],
   "source": [
    "import pandas as pd"
   ]
  },
  {
   "cell_type": "code",
   "execution_count": 2,
   "metadata": {},
   "outputs": [],
   "source": [
    "dataToBeBinned: dict ={\n",
    "    'Months' : ['jan','feb','jan','feb','mar'],\n",
    "    'Names' : ['Sam','Sally','Sue','Tim','Todd'],\n",
    "    'Test Score' : [90,55,80,88,95]\n",
    "}"
   ]
  },
  {
   "cell_type": "code",
   "execution_count": 3,
   "metadata": {},
   "outputs": [],
   "source": [
    "binningDF = pd.DataFrame(dataToBeBinned)"
   ]
  },
  {
   "cell_type": "code",
   "execution_count": 4,
   "metadata": {},
   "outputs": [],
   "source": [
    "bins = [0,59,69,79,89,100]\n",
    "#bins = [x for x in range(59,101,10)]"
   ]
  },
  {
   "cell_type": "code",
   "execution_count": 5,
   "metadata": {},
   "outputs": [],
   "source": [
    "gradeBinLabel = ['F','D','C','B','A']"
   ]
  },
  {
   "cell_type": "code",
   "execution_count": 6,
   "metadata": {},
   "outputs": [
    {
     "output_type": "execute_result",
     "data": {
      "text/plain": "['A', 'B', 'C', 'D', 'E', 'F']"
     },
     "metadata": {},
     "execution_count": 6
    }
   ],
   "source": [
    "[chr(x) for x in range(65,71)] # initializing a list of character sequentially using list comprehension. Use the ascii table to covert back and forth from the decimal index to the string value\n",
    "['A','B','C','D','E','F']\n"
   ]
  },
  {
   "cell_type": "code",
   "execution_count": 7,
   "metadata": {},
   "outputs": [],
   "source": [
    "binningDF[\"TestScoreSummary\"] = pd.cut(binningDF[\"Test Score\"],bins, labels= gradeBinLabel)"
   ]
  },
  {
   "cell_type": "code",
   "execution_count": null,
   "metadata": {},
   "outputs": [],
   "source": []
  }
 ],
 "metadata": {
  "language_info": {
   "codemirror_mode": {
    "name": "ipython",
    "version": 3
   },
   "file_extension": ".py",
   "mimetype": "text/x-python",
   "name": "python",
   "nbconvert_exporter": "python",
   "pygments_lexer": "ipython3",
   "version": "3.7.6-final"
  },
  "orig_nbformat": 2,
  "kernelspec": {
   "name": "pythondata",
   "display_name": "PythonData"
  }
 },
 "nbformat": 4,
 "nbformat_minor": 2
}