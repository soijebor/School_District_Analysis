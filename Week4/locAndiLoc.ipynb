{
 "cells": [
  {
   "cell_type": "code",
   "execution_count": 1,
   "metadata": {},
   "outputs": [],
   "source": [
    "import pandas as pd"
   ]
  },
  {
   "cell_type": "code",
   "execution_count": 2,
   "metadata": {},
   "outputs": [],
   "source": [
    "file = \"./contacts.csv\""
   ]
  },
  {
   "cell_type": "code",
   "execution_count": 3,
   "metadata": {},
   "outputs": [],
   "source": [
    "contactsDF = pd.read_csv(file)"
   ]
  },
  {
   "cell_type": "code",
   "execution_count": 4,
   "metadata": {},
   "outputs": [],
   "source": [
    "#contactsDF = contactsDF.drop(columns=[\"id\"])"
   ]
  },
  {
   "cell_type": "code",
   "execution_count": 5,
   "metadata": {},
   "outputs": [],
   "source": [
    "contactsDF = contactsDF.set_index(\"last_name\")"
   ]
  },
  {
   "cell_type": "code",
   "execution_count": 6,
   "metadata": {},
   "outputs": [
    {
     "output_type": "execute_result",
     "data": {
      "text/plain": "last_name\nKim    62-(764)534-1192\nKim    56-(946)201-0528\nName: Phone Number, dtype: object"
     },
     "metadata": {},
     "execution_count": 6
    }
   ],
   "source": [
    "contactsDF.loc[\"Kim\", \"Phone Number\"]"
   ]
  },
  {
   "cell_type": "code",
   "execution_count": 7,
   "metadata": {},
   "outputs": [
    {
     "output_type": "execute_result",
     "data": {
      "text/plain": "'Joseph'"
     },
     "metadata": {},
     "execution_count": 7
    }
   ],
   "source": [
    "contactsDF.iloc[6, 1]"
   ]
  },
  {
   "cell_type": "code",
   "execution_count": 8,
   "metadata": {},
   "outputs": [
    {
     "output_type": "execute_result",
     "data": {
      "text/plain": "            id first_name\nlast_name                \nRichardson   1      Peter\nBerry        2     Janice\nHudson       3     Andrea\nMcdonald     4     Arthur",
      "text/html": "<div>\n<style scoped>\n    .dataframe tbody tr th:only-of-type {\n        vertical-align: middle;\n    }\n\n    .dataframe tbody tr th {\n        vertical-align: top;\n    }\n\n    .dataframe thead th {\n        text-align: right;\n    }\n</style>\n<table border=\"1\" class=\"dataframe\">\n  <thead>\n    <tr style=\"text-align: right;\">\n      <th></th>\n      <th>id</th>\n      <th>first_name</th>\n    </tr>\n    <tr>\n      <th>last_name</th>\n      <th></th>\n      <th></th>\n    </tr>\n  </thead>\n  <tbody>\n    <tr>\n      <th>Richardson</th>\n      <td>1</td>\n      <td>Peter</td>\n    </tr>\n    <tr>\n      <th>Berry</th>\n      <td>2</td>\n      <td>Janice</td>\n    </tr>\n    <tr>\n      <th>Hudson</th>\n      <td>3</td>\n      <td>Andrea</td>\n    </tr>\n    <tr>\n      <th>Mcdonald</th>\n      <td>4</td>\n      <td>Arthur</td>\n    </tr>\n  </tbody>\n</table>\n</div>"
     },
     "metadata": {},
     "execution_count": 8
    }
   ],
   "source": [
    "contactsDF.iloc[0:4,0:2]"
   ]
  },
  {
   "cell_type": "code",
   "execution_count": 9,
   "metadata": {},
   "outputs": [
    {
     "output_type": "execute_result",
     "data": {
      "text/plain": "last_name\nRichardson    False\nBerry         False\nHudson        False\nMcdonald      False\nMorales       False\n              ...  \nHenderson     False\nRiley         False\nGreen         False\nPeters        False\nMurray        False\nName: first_name, Length: 100, dtype: bool"
     },
     "metadata": {},
     "execution_count": 9
    }
   ],
   "source": [
    "contactsDF[\"first_name\"] == \"Billy\""
   ]
  },
  {
   "cell_type": "code",
   "execution_count": null,
   "metadata": {},
   "outputs": [],
   "source": []
  }
 ],
 "metadata": {
  "language_info": {
   "codemirror_mode": {
    "name": "ipython",
    "version": 3
   },
   "file_extension": ".py",
   "mimetype": "text/x-python",
   "name": "python",
   "nbconvert_exporter": "python",
   "pygments_lexer": "ipython3",
   "version": "3.7.7-final"
  },
  "orig_nbformat": 2,
  "kernelspec": {
   "name": "python37764bitpythondataconda92ea274422bb4f259bb88e983f2e6ffa",
   "display_name": "Python 3.7.7 64-bit ('PythonData': conda)"
  }
 },
 "nbformat": 4,
 "nbformat_minor": 2
}