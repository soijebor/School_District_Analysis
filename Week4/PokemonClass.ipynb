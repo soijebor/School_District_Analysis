{
 "cells": [
  {
   "cell_type": "code",
   "execution_count": 1,
   "metadata": {},
   "outputs": [],
   "source": [
    "import pandas as pd"
   ]
  },
  {
   "cell_type": "code",
   "execution_count": 2,
   "metadata": {},
   "outputs": [],
   "source": [
    "dataFile = \"./Pokemon.csv\""
   ]
  },
  {
   "cell_type": "code",
   "execution_count": 3,
   "metadata": {},
   "outputs": [],
   "source": [
    "PokemonDF = pd.read_csv(dataFile)"
   ]
  },
  {
   "cell_type": "code",
   "execution_count": 4,
   "metadata": {},
   "outputs": [
    {
     "output_type": "execute_result",
     "data": {
      "text/plain": "#             800\nName          800\nType 1        800\nType 2        414\nTotal         800\nHP            800\nAttack        800\nDefense       800\nSp. Atk       800\nSp. Def       800\nSpeed         800\nGeneration    800\nLegendary     800\ndtype: int64"
     },
     "metadata": {},
     "execution_count": 4
    }
   ],
   "source": [
    "PokemonDF.count()"
   ]
  },
  {
   "cell_type": "code",
   "execution_count": 6,
   "metadata": {},
   "outputs": [
    {
     "output_type": "execute_result",
     "data": {
      "text/plain": "#              int64\nName          object\nType 1        object\nType 2        object\nTotal          int64\nHP             int64\nAttack         int64\nDefense        int64\nSp. Atk        int64\nSp. Def        int64\nSpeed          int64\nGeneration     int64\nLegendary       bool\ndtype: object"
     },
     "metadata": {},
     "execution_count": 6
    }
   ],
   "source": [
    "PokemonDF.dtypes"
   ]
  },
  {
   "cell_type": "code",
   "execution_count": 9,
   "metadata": {},
   "outputs": [],
   "source": [
    "groupbyType1PokemonDF = PokemonDF.groupby([\"Type 1\"]).mean()"
   ]
  },
  {
   "cell_type": "code",
   "execution_count": 10,
   "metadata": {},
   "outputs": [
    {
     "output_type": "execute_result",
     "data": {
      "text/plain": "                   #       Total         HP      Attack     Defense  \\\nType 1                                                                \nBug       334.492754  378.927536  56.884058   70.971014   70.724638   \nDark      461.354839  445.741935  66.806452   88.387097   70.225806   \nDragon    474.375000  550.531250  83.312500  112.125000   86.375000   \nElectric  363.500000  443.409091  59.795455   69.090909   66.295455   \nFairy     449.529412  413.176471  74.117647   61.529412   65.705882   \nFighting  363.851852  416.444444  69.851852   96.777778   65.925926   \nFire      327.403846  458.076923  69.903846   84.769231   67.769231   \nFlying    677.750000  485.000000  70.750000   78.750000   66.250000   \nGhost     486.500000  439.562500  64.437500   73.781250   81.187500   \nGrass     344.871429  421.142857  67.271429   73.214286   70.800000   \nGround    356.281250  437.500000  73.781250   95.750000   84.843750   \nIce       423.541667  433.458333  72.000000   72.750000   71.416667   \nNormal    319.173469  401.683673  77.275510   73.469388   59.846939   \nPoison    251.785714  399.142857  67.250000   74.678571   68.821429   \nPsychic   380.807018  475.947368  70.631579   71.456140   67.684211   \nRock      392.727273  453.750000  65.363636   92.863636  100.795455   \nSteel     442.851852  487.703704  65.222222   92.703704  126.370370   \nWater     303.089286  430.455357  72.062500   74.151786   72.946429   \n\n            Sp. Atk    Sp. Def       Speed  Generation  Legendary  \nType 1                                                             \nBug       53.869565  64.797101   61.681159    3.217391   0.000000  \nDark      74.645161  69.516129   76.161290    4.032258   0.064516  \nDragon    96.843750  88.843750   83.031250    3.875000   0.375000  \nElectric  90.022727  73.704545   84.500000    3.272727   0.090909  \nFairy     78.529412  84.705882   48.588235    4.117647   0.058824  \nFighting  53.111111  64.703704   66.074074    3.370370   0.000000  \nFire      88.980769  72.211538   74.442308    3.211538   0.096154  \nFlying    94.250000  72.500000  102.500000    5.500000   0.500000  \nGhost     79.343750  76.468750   64.343750    4.187500   0.062500  \nGrass     77.500000  70.428571   61.928571    3.357143   0.042857  \nGround    56.468750  62.750000   63.906250    3.156250   0.125000  \nIce       77.541667  76.291667   63.458333    3.541667   0.083333  \nNormal    55.816327  63.724490   71.551020    3.051020   0.020408  \nPoison    60.428571  64.392857   63.571429    2.535714   0.000000  \nPsychic   98.403509  86.280702   81.491228    3.385965   0.245614  \nRock      63.340909  75.477273   55.909091    3.454545   0.090909  \nSteel     67.518519  80.629630   55.259259    3.851852   0.148148  \nWater     74.812500  70.517857   65.964286    2.857143   0.035714  ",
      "text/html": "<div>\n<style scoped>\n    .dataframe tbody tr th:only-of-type {\n        vertical-align: middle;\n    }\n\n    .dataframe tbody tr th {\n        vertical-align: top;\n    }\n\n    .dataframe thead th {\n        text-align: right;\n    }\n</style>\n<table border=\"1\" class=\"dataframe\">\n  <thead>\n    <tr style=\"text-align: right;\">\n      <th></th>\n      <th>#</th>\n      <th>Total</th>\n      <th>HP</th>\n      <th>Attack</th>\n      <th>Defense</th>\n      <th>Sp. Atk</th>\n      <th>Sp. Def</th>\n      <th>Speed</th>\n      <th>Generation</th>\n      <th>Legendary</th>\n    </tr>\n    <tr>\n      <th>Type 1</th>\n      <th></th>\n      <th></th>\n      <th></th>\n      <th></th>\n      <th></th>\n      <th></th>\n      <th></th>\n      <th></th>\n      <th></th>\n      <th></th>\n    </tr>\n  </thead>\n  <tbody>\n    <tr>\n      <th>Bug</th>\n      <td>334.492754</td>\n      <td>378.927536</td>\n      <td>56.884058</td>\n      <td>70.971014</td>\n      <td>70.724638</td>\n      <td>53.869565</td>\n      <td>64.797101</td>\n      <td>61.681159</td>\n      <td>3.217391</td>\n      <td>0.000000</td>\n    </tr>\n    <tr>\n      <th>Dark</th>\n      <td>461.354839</td>\n      <td>445.741935</td>\n      <td>66.806452</td>\n      <td>88.387097</td>\n      <td>70.225806</td>\n      <td>74.645161</td>\n      <td>69.516129</td>\n      <td>76.161290</td>\n      <td>4.032258</td>\n      <td>0.064516</td>\n    </tr>\n    <tr>\n      <th>Dragon</th>\n      <td>474.375000</td>\n      <td>550.531250</td>\n      <td>83.312500</td>\n      <td>112.125000</td>\n      <td>86.375000</td>\n      <td>96.843750</td>\n      <td>88.843750</td>\n      <td>83.031250</td>\n      <td>3.875000</td>\n      <td>0.375000</td>\n    </tr>\n    <tr>\n      <th>Electric</th>\n      <td>363.500000</td>\n      <td>443.409091</td>\n      <td>59.795455</td>\n      <td>69.090909</td>\n      <td>66.295455</td>\n      <td>90.022727</td>\n      <td>73.704545</td>\n      <td>84.500000</td>\n      <td>3.272727</td>\n      <td>0.090909</td>\n    </tr>\n    <tr>\n      <th>Fairy</th>\n      <td>449.529412</td>\n      <td>413.176471</td>\n      <td>74.117647</td>\n      <td>61.529412</td>\n      <td>65.705882</td>\n      <td>78.529412</td>\n      <td>84.705882</td>\n      <td>48.588235</td>\n      <td>4.117647</td>\n      <td>0.058824</td>\n    </tr>\n    <tr>\n      <th>Fighting</th>\n      <td>363.851852</td>\n      <td>416.444444</td>\n      <td>69.851852</td>\n      <td>96.777778</td>\n      <td>65.925926</td>\n      <td>53.111111</td>\n      <td>64.703704</td>\n      <td>66.074074</td>\n      <td>3.370370</td>\n      <td>0.000000</td>\n    </tr>\n    <tr>\n      <th>Fire</th>\n      <td>327.403846</td>\n      <td>458.076923</td>\n      <td>69.903846</td>\n      <td>84.769231</td>\n      <td>67.769231</td>\n      <td>88.980769</td>\n      <td>72.211538</td>\n      <td>74.442308</td>\n      <td>3.211538</td>\n      <td>0.096154</td>\n    </tr>\n    <tr>\n      <th>Flying</th>\n      <td>677.750000</td>\n      <td>485.000000</td>\n      <td>70.750000</td>\n      <td>78.750000</td>\n      <td>66.250000</td>\n      <td>94.250000</td>\n      <td>72.500000</td>\n      <td>102.500000</td>\n      <td>5.500000</td>\n      <td>0.500000</td>\n    </tr>\n    <tr>\n      <th>Ghost</th>\n      <td>486.500000</td>\n      <td>439.562500</td>\n      <td>64.437500</td>\n      <td>73.781250</td>\n      <td>81.187500</td>\n      <td>79.343750</td>\n      <td>76.468750</td>\n      <td>64.343750</td>\n      <td>4.187500</td>\n      <td>0.062500</td>\n    </tr>\n    <tr>\n      <th>Grass</th>\n      <td>344.871429</td>\n      <td>421.142857</td>\n      <td>67.271429</td>\n      <td>73.214286</td>\n      <td>70.800000</td>\n      <td>77.500000</td>\n      <td>70.428571</td>\n      <td>61.928571</td>\n      <td>3.357143</td>\n      <td>0.042857</td>\n    </tr>\n    <tr>\n      <th>Ground</th>\n      <td>356.281250</td>\n      <td>437.500000</td>\n      <td>73.781250</td>\n      <td>95.750000</td>\n      <td>84.843750</td>\n      <td>56.468750</td>\n      <td>62.750000</td>\n      <td>63.906250</td>\n      <td>3.156250</td>\n      <td>0.125000</td>\n    </tr>\n    <tr>\n      <th>Ice</th>\n      <td>423.541667</td>\n      <td>433.458333</td>\n      <td>72.000000</td>\n      <td>72.750000</td>\n      <td>71.416667</td>\n      <td>77.541667</td>\n      <td>76.291667</td>\n      <td>63.458333</td>\n      <td>3.541667</td>\n      <td>0.083333</td>\n    </tr>\n    <tr>\n      <th>Normal</th>\n      <td>319.173469</td>\n      <td>401.683673</td>\n      <td>77.275510</td>\n      <td>73.469388</td>\n      <td>59.846939</td>\n      <td>55.816327</td>\n      <td>63.724490</td>\n      <td>71.551020</td>\n      <td>3.051020</td>\n      <td>0.020408</td>\n    </tr>\n    <tr>\n      <th>Poison</th>\n      <td>251.785714</td>\n      <td>399.142857</td>\n      <td>67.250000</td>\n      <td>74.678571</td>\n      <td>68.821429</td>\n      <td>60.428571</td>\n      <td>64.392857</td>\n      <td>63.571429</td>\n      <td>2.535714</td>\n      <td>0.000000</td>\n    </tr>\n    <tr>\n      <th>Psychic</th>\n      <td>380.807018</td>\n      <td>475.947368</td>\n      <td>70.631579</td>\n      <td>71.456140</td>\n      <td>67.684211</td>\n      <td>98.403509</td>\n      <td>86.280702</td>\n      <td>81.491228</td>\n      <td>3.385965</td>\n      <td>0.245614</td>\n    </tr>\n    <tr>\n      <th>Rock</th>\n      <td>392.727273</td>\n      <td>453.750000</td>\n      <td>65.363636</td>\n      <td>92.863636</td>\n      <td>100.795455</td>\n      <td>63.340909</td>\n      <td>75.477273</td>\n      <td>55.909091</td>\n      <td>3.454545</td>\n      <td>0.090909</td>\n    </tr>\n    <tr>\n      <th>Steel</th>\n      <td>442.851852</td>\n      <td>487.703704</td>\n      <td>65.222222</td>\n      <td>92.703704</td>\n      <td>126.370370</td>\n      <td>67.518519</td>\n      <td>80.629630</td>\n      <td>55.259259</td>\n      <td>3.851852</td>\n      <td>0.148148</td>\n    </tr>\n    <tr>\n      <th>Water</th>\n      <td>303.089286</td>\n      <td>430.455357</td>\n      <td>72.062500</td>\n      <td>74.151786</td>\n      <td>72.946429</td>\n      <td>74.812500</td>\n      <td>70.517857</td>\n      <td>65.964286</td>\n      <td>2.857143</td>\n      <td>0.035714</td>\n    </tr>\n  </tbody>\n</table>\n</div>"
     },
     "metadata": {},
     "execution_count": 10
    }
   ],
   "source": [
    "groupbyType1PokemonDF"
   ]
  },
  {
   "cell_type": "code",
   "execution_count": 13,
   "metadata": {},
   "outputs": [],
   "source": [
    "groupbyType1PokemonDF.to_csv(r'./Poke.csv')"
   ]
  },
  {
   "cell_type": "code",
   "execution_count": null,
   "metadata": {},
   "outputs": [],
   "source": []
  }
 ],
 "metadata": {
  "language_info": {
   "codemirror_mode": {
    "name": "ipython",
    "version": 3
   },
   "file_extension": ".py",
   "mimetype": "text/x-python",
   "name": "python",
   "nbconvert_exporter": "python",
   "pygments_lexer": "ipython3",
   "version": "3.7.6-final"
  },
  "orig_nbformat": 2,
  "kernelspec": {
   "name": "pythondata",
   "display_name": "PythonData"
  }
 },
 "nbformat": 4,
 "nbformat_minor": 2
}