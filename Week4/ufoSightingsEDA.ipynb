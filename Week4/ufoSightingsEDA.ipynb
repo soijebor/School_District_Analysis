{
 "cells": [
  {
   "cell_type": "code",
   "execution_count": 1,
   "metadata": {},
   "outputs": [],
   "source": [
    "import pandas as pd"
   ]
  },
  {
   "cell_type": "code",
   "execution_count": 2,
   "metadata": {},
   "outputs": [],
   "source": [
    "dataFile = './ufoSightings.csv'"
   ]
  },
  {
   "cell_type": "code",
   "execution_count": 3,
   "metadata": {},
   "outputs": [],
   "source": [
    "ufoDF = pd.read_csv(dataFile)"
   ]
  },
  {
   "cell_type": "code",
   "execution_count": 4,
   "metadata": {},
   "outputs": [
    {
     "output_type": "execute_result",
     "data": {
      "text/plain": "datetime                80332\ncity                    80332\nstate                   74535\ncountry                 70662\nshape                   78400\nduration (seconds)      80332\nduration (hours/min)    80332\ncomments                80317\ndate posted             80332\nlatitude                80332\nlongitude               80332\ndtype: int64"
     },
     "metadata": {},
     "execution_count": 4
    }
   ],
   "source": [
    "ufoDF.count()"
   ]
  },
  {
   "cell_type": "code",
   "execution_count": 6,
   "metadata": {},
   "outputs": [],
   "source": [
    "cleanedUFODF = ufoDF.dropna()"
   ]
  },
  {
   "cell_type": "code",
   "execution_count": 7,
   "metadata": {},
   "outputs": [
    {
     "output_type": "execute_result",
     "data": {
      "text/plain": "datetime                66516\ncity                    66516\nstate                   66516\ncountry                 66516\nshape                   66516\nduration (seconds)      66516\nduration (hours/min)    66516\ncomments                66516\ndate posted             66516\nlatitude                66516\nlongitude               66516\ndtype: int64"
     },
     "metadata": {},
     "execution_count": 7
    }
   ],
   "source": [
    "cleanedUFODF.count()"
   ]
  },
  {
   "cell_type": "code",
   "execution_count": 8,
   "metadata": {},
   "outputs": [
    {
     "output_type": "execute_result",
     "data": {
      "text/plain": "0          <class 'str'>\n3          <class 'str'>\n4          <class 'str'>\n5          <class 'str'>\n7          <class 'str'>\n              ...       \n80327    <class 'float'>\n80328    <class 'float'>\n80329    <class 'float'>\n80330    <class 'float'>\n80331    <class 'float'>\nName: duration (seconds), Length: 66516, dtype: object"
     },
     "metadata": {},
     "execution_count": 8
    }
   ],
   "source": [
    "cleanedUFODF[\"duration (seconds)\"].apply(type)"
   ]
  },
  {
   "cell_type": "code",
   "execution_count": 9,
   "metadata": {},
   "outputs": [],
   "source": [
    "cleanedUFODF[\"duration (seconds)\"] = cleanedUFODF.loc[:,\"duration (seconds)\"].astype(float)"
   ]
  },
  {
   "cell_type": "code",
   "execution_count": 10,
   "metadata": {},
   "outputs": [
    {
     "output_type": "execute_result",
     "data": {
      "text/plain": "0        <class 'float'>\n3        <class 'float'>\n4        <class 'float'>\n5        <class 'float'>\n7        <class 'float'>\n              ...       \n80327    <class 'float'>\n80328    <class 'float'>\n80329    <class 'float'>\n80330    <class 'float'>\n80331    <class 'float'>\nName: duration (seconds), Length: 66516, dtype: object"
     },
     "metadata": {},
     "execution_count": 10
    }
   ],
   "source": [
    "cleanedUFODF[\"duration (seconds)\"].apply(type)"
   ]
  },
  {
   "cell_type": "code",
   "execution_count": 11,
   "metadata": {},
   "outputs": [],
   "source": [
    "usUFODF = cleanedUFODF.loc[cleanedUFODF[\"country\"] == 'us', :]"
   ]
  },
  {
   "cell_type": "code",
   "execution_count": 12,
   "metadata": {},
   "outputs": [
    {
     "output_type": "execute_result",
     "data": {
      "text/plain": "us    65114\nca     3000\ngb     1905\nau      538\nde      105\nName: country, dtype: int64"
     },
     "metadata": {},
     "execution_count": 12
    }
   ],
   "source": [
    "ufoDF[\"country\"].value_counts()"
   ]
  },
  {
   "cell_type": "code",
   "execution_count": 13,
   "metadata": {},
   "outputs": [
    {
     "output_type": "execute_result",
     "data": {
      "text/plain": "ca    9655\nwa    4268\nfl    4200\ntx    3677\nny    3219\n      ... \nnf      25\nnt      20\npe      17\nyt      13\nyk       7\nName: state, Length: 67, dtype: int64"
     },
     "metadata": {},
     "execution_count": 13
    }
   ],
   "source": [
    "ufoDF[\"state\"].value_counts()"
   ]
  },
  {
   "cell_type": "code",
   "execution_count": 14,
   "metadata": {},
   "outputs": [],
   "source": [
    "ufoStateGroupByObject = usUFODF.groupby([\"state\"])"
   ]
  },
  {
   "cell_type": "code",
   "execution_count": 15,
   "metadata": {
    "tags": []
   },
   "outputs": [
    {
     "output_type": "stream",
     "name": "stdout",
     "text": "<pandas.core.groupby.generic.DataFrameGroupBy object at 0x7fad64db5f50>\n"
    }
   ],
   "source": [
    "print(ufoStateGroupByObject)"
   ]
  },
  {
   "cell_type": "code",
   "execution_count": 17,
   "metadata": {},
   "outputs": [],
   "source": [
    "groupByStateCounts = ufoStateGroupByObject.count()"
   ]
  },
  {
   "cell_type": "code",
   "execution_count": 19,
   "metadata": {},
   "outputs": [],
   "source": [
    "ufoStateMeanDF = ufoStateGroupByObject.mean()"
   ]
  },
  {
   "cell_type": "code",
   "execution_count": 21,
   "metadata": {},
   "outputs": [
    {
     "output_type": "execute_result",
     "data": {
      "text/plain": "state\nak    22347\nal    19176\nar    74660\naz    30590\nca    30596\nco    12762\nct    24322\ndc    59804\nde    37339\nfl    69215\nga    31486\nhi    53006\nia    24309\nid    43517\nil    34917\nin    38550\nks    46371\nky     3476\nla    21583\nma    27604\nmd    46708\nme    10967\nmi     7634\nmn    70367\nmo    66241\nms    20064\nmt    31755\nnc    36037\nnd    69296\nne    73853\nnh    64116\nnj    48669\nnm    45541\nnv    45067\nny    49422\noh     8681\nok    44990\nor    25458\npa    23721\npr    40284\nri    12655\nsc    15050\nsd    51619\ntn     4123\ntx    74544\nut    28355\nva    71172\nvt    32463\nwa    64390\nwi    14181\nwv    62793\nwy    37861\nName: duration (seconds), dtype: int64"
     },
     "metadata": {},
     "execution_count": 21
    }
   ],
   "source": [
    "ufoStateGroupByObject[\"duration (seconds)\"].idxmax()"
   ]
  },
  {
   "cell_type": "code",
   "execution_count": 23,
   "metadata": {},
   "outputs": [],
   "source": [
    "ufoCityStateGroupByObject = usUFODF.groupby([\"state\",\"city\"])"
   ]
  },
  {
   "cell_type": "code",
   "execution_count": null,
   "metadata": {},
   "outputs": [],
   "source": [
    "ufoCityStateGroupByObject"
   ]
  }
 ],
 "metadata": {
  "language_info": {
   "codemirror_mode": {
    "name": "ipython",
    "version": 3
   },
   "file_extension": ".py",
   "mimetype": "text/x-python",
   "name": "python",
   "nbconvert_exporter": "python",
   "pygments_lexer": "ipython3",
   "version": "3.7.6-final"
  },
  "orig_nbformat": 2,
  "kernelspec": {
   "name": "pythondata",
   "display_name": "PythonData"
  }
 },
 "nbformat": 4,
 "nbformat_minor": 2
}